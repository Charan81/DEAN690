{
 "cells": [
  {
   "cell_type": "code",
   "execution_count": 1,
   "metadata": {},
   "outputs": [],
   "source": [
    "import numpy as np\n",
    "import pandas as pd\n",
    "%matplotlib inline\n",
    "import matplotlib.pyplot as plt\n"
   ]
  },
  {
   "cell_type": "code",
   "execution_count": 2,
   "metadata": {},
   "outputs": [
    {
     "data": {
      "text/plain": [
       "'C:\\\\Users\\\\majaa\\\\Desktop\\\\DAEN-690'"
      ]
     },
     "execution_count": 2,
     "metadata": {},
     "output_type": "execute_result"
    }
   ],
   "source": [
    "import os\n",
    "os.getcwd()\n",
    "\n",
    "os.chdir('C:\\\\Users\\\\majaa\\\\Desktop\\\\DAEN-690') # Change the directory location to where your file is located on your computer.\n",
    "os.getcwd()\n",
    "\n"
   ]
  },
  {
   "cell_type": "code",
   "execution_count": 3,
   "metadata": {},
   "outputs": [],
   "source": [
    "df=pd.read_csv(\"purchase-order-data-2012-2015-.csv\")"
   ]
  },
  {
   "cell_type": "code",
   "execution_count": 4,
   "metadata": {},
   "outputs": [
    {
     "data": {
      "text/html": [
       "<div>\n",
       "<style scoped>\n",
       "    .dataframe tbody tr th:only-of-type {\n",
       "        vertical-align: middle;\n",
       "    }\n",
       "\n",
       "    .dataframe tbody tr th {\n",
       "        vertical-align: top;\n",
       "    }\n",
       "\n",
       "    .dataframe thead th {\n",
       "        text-align: right;\n",
       "    }\n",
       "</style>\n",
       "<table border=\"1\" class=\"dataframe\">\n",
       "  <thead>\n",
       "    <tr style=\"text-align: right;\">\n",
       "      <th></th>\n",
       "      <th>Creation Date</th>\n",
       "      <th>Purchase Date</th>\n",
       "      <th>Fiscal Year</th>\n",
       "      <th>LPA Number</th>\n",
       "      <th>Purchase Order Number</th>\n",
       "      <th>Requisition Number</th>\n",
       "      <th>Acquisition Type</th>\n",
       "      <th>Sub-Acquisition Type</th>\n",
       "      <th>Acquisition Method</th>\n",
       "      <th>Sub-Acquisition Method</th>\n",
       "      <th>...</th>\n",
       "      <th>Normalized UNSPSC</th>\n",
       "      <th>Commodity Title</th>\n",
       "      <th>Class</th>\n",
       "      <th>Class Title</th>\n",
       "      <th>Family</th>\n",
       "      <th>Family Title</th>\n",
       "      <th>Segment</th>\n",
       "      <th>Segment Title</th>\n",
       "      <th>Location</th>\n",
       "      <th>REMOVE AMERISOURCE</th>\n",
       "    </tr>\n",
       "  </thead>\n",
       "  <tbody>\n",
       "    <tr>\n",
       "      <th>0</th>\n",
       "      <td>8/27/2013</td>\n",
       "      <td>NaN</td>\n",
       "      <td>2013-2014</td>\n",
       "      <td>7-12-70-26</td>\n",
       "      <td>REQ0011118</td>\n",
       "      <td>REQ0011118</td>\n",
       "      <td>IT Goods</td>\n",
       "      <td>NaN</td>\n",
       "      <td>WSCA/Coop</td>\n",
       "      <td>NaN</td>\n",
       "      <td>...</td>\n",
       "      <td>NaN</td>\n",
       "      <td>NaN</td>\n",
       "      <td>NaN</td>\n",
       "      <td>NaN</td>\n",
       "      <td>NaN</td>\n",
       "      <td>NaN</td>\n",
       "      <td>NaN</td>\n",
       "      <td>NaN</td>\n",
       "      <td>NaN</td>\n",
       "      <td>NaN</td>\n",
       "    </tr>\n",
       "    <tr>\n",
       "      <th>1</th>\n",
       "      <td>1/29/2014</td>\n",
       "      <td>NaN</td>\n",
       "      <td>2013-2014</td>\n",
       "      <td>NaN</td>\n",
       "      <td>REQ0011932</td>\n",
       "      <td>REQ0011932</td>\n",
       "      <td>NON-IT Goods</td>\n",
       "      <td>NaN</td>\n",
       "      <td>Informal Competitive</td>\n",
       "      <td>NaN</td>\n",
       "      <td>...</td>\n",
       "      <td>76121504.0</td>\n",
       "      <td>NaN</td>\n",
       "      <td>NaN</td>\n",
       "      <td>NaN</td>\n",
       "      <td>NaN</td>\n",
       "      <td>NaN</td>\n",
       "      <td>NaN</td>\n",
       "      <td>NaN</td>\n",
       "      <td>NaN</td>\n",
       "      <td>NaN</td>\n",
       "    </tr>\n",
       "    <tr>\n",
       "      <th>2</th>\n",
       "      <td>11/1/2013</td>\n",
       "      <td>NaN</td>\n",
       "      <td>2013-2014</td>\n",
       "      <td>NaN</td>\n",
       "      <td>REQ0011476</td>\n",
       "      <td>REQ0011476</td>\n",
       "      <td>IT Services</td>\n",
       "      <td>NaN</td>\n",
       "      <td>Informal Competitive</td>\n",
       "      <td>NaN</td>\n",
       "      <td>...</td>\n",
       "      <td>NaN</td>\n",
       "      <td>NaN</td>\n",
       "      <td>NaN</td>\n",
       "      <td>NaN</td>\n",
       "      <td>NaN</td>\n",
       "      <td>NaN</td>\n",
       "      <td>NaN</td>\n",
       "      <td>NaN</td>\n",
       "      <td>95841\\n(38.662263, -121.346136)</td>\n",
       "      <td>NaN</td>\n",
       "    </tr>\n",
       "    <tr>\n",
       "      <th>3</th>\n",
       "      <td>6/13/2014</td>\n",
       "      <td>6/5/2014</td>\n",
       "      <td>2013-2014</td>\n",
       "      <td>NaN</td>\n",
       "      <td>4500236642</td>\n",
       "      <td>NaN</td>\n",
       "      <td>NON-IT Goods</td>\n",
       "      <td>NaN</td>\n",
       "      <td>Informal Competitive</td>\n",
       "      <td>NaN</td>\n",
       "      <td>...</td>\n",
       "      <td>NaN</td>\n",
       "      <td>NaN</td>\n",
       "      <td>NaN</td>\n",
       "      <td>NaN</td>\n",
       "      <td>NaN</td>\n",
       "      <td>NaN</td>\n",
       "      <td>NaN</td>\n",
       "      <td>NaN</td>\n",
       "      <td>91436\\n(34.151642, -118.49051)</td>\n",
       "      <td>NaN</td>\n",
       "    </tr>\n",
       "    <tr>\n",
       "      <th>4</th>\n",
       "      <td>3/12/2014</td>\n",
       "      <td>3/12/2014</td>\n",
       "      <td>2013-2014</td>\n",
       "      <td>1-10-75-60A</td>\n",
       "      <td>4500221028</td>\n",
       "      <td>NaN</td>\n",
       "      <td>NON-IT Goods</td>\n",
       "      <td>NaN</td>\n",
       "      <td>Statewide Contract</td>\n",
       "      <td>NaN</td>\n",
       "      <td>...</td>\n",
       "      <td>44103127.0</td>\n",
       "      <td>NaN</td>\n",
       "      <td>NaN</td>\n",
       "      <td>NaN</td>\n",
       "      <td>NaN</td>\n",
       "      <td>NaN</td>\n",
       "      <td>NaN</td>\n",
       "      <td>NaN</td>\n",
       "      <td>95814\\n(38.580427, -121.494396)</td>\n",
       "      <td>NaN</td>\n",
       "    </tr>\n",
       "  </tbody>\n",
       "</table>\n",
       "<p>5 rows × 32 columns</p>\n",
       "</div>"
      ],
      "text/plain": [
       "  Creation Date Purchase Date Fiscal Year   LPA Number Purchase Order Number  \\\n",
       "0     8/27/2013           NaN   2013-2014   7-12-70-26            REQ0011118   \n",
       "1     1/29/2014           NaN   2013-2014          NaN            REQ0011932   \n",
       "2     11/1/2013           NaN   2013-2014          NaN            REQ0011476   \n",
       "3     6/13/2014      6/5/2014   2013-2014          NaN            4500236642   \n",
       "4     3/12/2014     3/12/2014   2013-2014  1-10-75-60A            4500221028   \n",
       "\n",
       "  Requisition Number Acquisition Type Sub-Acquisition Type  \\\n",
       "0         REQ0011118         IT Goods                  NaN   \n",
       "1         REQ0011932     NON-IT Goods                  NaN   \n",
       "2         REQ0011476      IT Services                  NaN   \n",
       "3                NaN     NON-IT Goods                  NaN   \n",
       "4                NaN     NON-IT Goods                  NaN   \n",
       "\n",
       "     Acquisition Method Sub-Acquisition Method        ...          \\\n",
       "0             WSCA/Coop                    NaN        ...           \n",
       "1  Informal Competitive                    NaN        ...           \n",
       "2  Informal Competitive                    NaN        ...           \n",
       "3  Informal Competitive                    NaN        ...           \n",
       "4    Statewide Contract                    NaN        ...           \n",
       "\n",
       "  Normalized UNSPSC  Commodity Title Class Class Title Family Family Title  \\\n",
       "0               NaN              NaN   NaN         NaN    NaN          NaN   \n",
       "1        76121504.0              NaN   NaN         NaN    NaN          NaN   \n",
       "2               NaN              NaN   NaN         NaN    NaN          NaN   \n",
       "3               NaN              NaN   NaN         NaN    NaN          NaN   \n",
       "4        44103127.0              NaN   NaN         NaN    NaN          NaN   \n",
       "\n",
       "  Segment Segment Title                         Location REMOVE AMERISOURCE  \n",
       "0     NaN           NaN                              NaN                NaN  \n",
       "1     NaN           NaN                              NaN                NaN  \n",
       "2     NaN           NaN  95841\\n(38.662263, -121.346136)                NaN  \n",
       "3     NaN           NaN   91436\\n(34.151642, -118.49051)                NaN  \n",
       "4     NaN           NaN  95814\\n(38.580427, -121.494396)                NaN  \n",
       "\n",
       "[5 rows x 32 columns]"
      ]
     },
     "execution_count": 4,
     "metadata": {},
     "output_type": "execute_result"
    }
   ],
   "source": [
    "df.head(5)"
   ]
  },
  {
   "cell_type": "code",
   "execution_count": 5,
   "metadata": {},
   "outputs": [
    {
     "data": {
      "text/plain": [
       "Creation Date                   0\n",
       "Purchase Date               17421\n",
       "Fiscal Year                     0\n",
       "LPA Number                 253607\n",
       "Purchase Order Number           0\n",
       "Requisition Number         330138\n",
       "Acquisition Type                0\n",
       "Sub-Acquisition Type       276170\n",
       "Acquisition Method              0\n",
       "Sub-Acquisition Method     313621\n",
       "Department Name                 0\n",
       "Supplier Code                  36\n",
       "Supplier Name                  36\n",
       "Supplier Qualifications    202759\n",
       "Supplier Zip Code           70080\n",
       "CalCard                         0\n",
       "Item Name                      31\n",
       "Item Description              199\n",
       "Quantity                       30\n",
       "Unit Price                     30\n",
       "Total Price                    30\n",
       "Classification Codes         1017\n",
       "Normalized UNSPSC            1017\n",
       "Commodity Title              3293\n",
       "Class                        3293\n",
       "Class Title                  3293\n",
       "Family                       3293\n",
       "Family Title                 3293\n",
       "Segment                      3293\n",
       "Segment Title                3293\n",
       "Location                    70080\n",
       "REMOVE AMERISOURCE         344504\n",
       "dtype: int64"
      ]
     },
     "execution_count": 5,
     "metadata": {},
     "output_type": "execute_result"
    }
   ],
   "source": [
    "df.isnull().sum(axis = 0)"
   ]
  },
  {
   "cell_type": "code",
   "execution_count": 6,
   "metadata": {},
   "outputs": [],
   "source": [
    "#df.dtypes"
   ]
  },
  {
   "cell_type": "code",
   "execution_count": 7,
   "metadata": {},
   "outputs": [],
   "source": [
    "#df.drop(['Class', 'Class Title','Segment','Segment Title', ' REMOVE AMERISOURCE','Family','Family Title'], axis=1)\n",
    "df=df.drop(['REMOVE AMERISOURCE','Supplier Qualifications','LPA Number','Requisition Number','Sub-Acquisition Type','Sub-Acquisition Method'], axis=1)"
   ]
  },
  {
   "cell_type": "code",
   "execution_count": 8,
   "metadata": {},
   "outputs": [],
   "source": [
    "#Define in which columns to look for missing values:\n",
    "\n",
    "df=df.dropna(subset=['Class', 'Class Title','Segment','Segment Title','Family','Family Title','Item Description','Supplier Name','Purchase Date','Supplier Zip Code'])"
   ]
  },
  {
   "cell_type": "code",
   "execution_count": 9,
   "metadata": {},
   "outputs": [
    {
     "data": {
      "text/plain": [
       "Creation Date            0\n",
       "Purchase Date            0\n",
       "Fiscal Year              0\n",
       "Purchase Order Number    0\n",
       "Acquisition Type         0\n",
       "Acquisition Method       0\n",
       "Department Name          0\n",
       "Supplier Code            0\n",
       "Supplier Name            0\n",
       "Supplier Zip Code        0\n",
       "CalCard                  0\n",
       "Item Name                0\n",
       "Item Description         0\n",
       "Quantity                 0\n",
       "Unit Price               0\n",
       "Total Price              0\n",
       "Classification Codes     0\n",
       "Normalized UNSPSC        0\n",
       "Commodity Title          0\n",
       "Class                    0\n",
       "Class Title              0\n",
       "Family                   0\n",
       "Family Title             0\n",
       "Segment                  0\n",
       "Segment Title            0\n",
       "Location                 0\n",
       "dtype: int64"
      ]
     },
     "execution_count": 9,
     "metadata": {},
     "output_type": "execute_result"
    }
   ],
   "source": [
    "df.isnull().sum(axis = 0)"
   ]
  },
  {
   "cell_type": "code",
   "execution_count": 10,
   "metadata": {},
   "outputs": [
    {
     "data": {
      "text/plain": [
       "(257600, 26)"
      ]
     },
     "execution_count": 10,
     "metadata": {},
     "output_type": "execute_result"
    }
   ],
   "source": [
    "df.shape"
   ]
  }
 ],
 "metadata": {
  "kernelspec": {
   "display_name": "Python 3",
   "language": "python",
   "name": "python3"
  },
  "language_info": {
   "codemirror_mode": {
    "name": "ipython",
    "version": 3
   },
   "file_extension": ".py",
   "mimetype": "text/x-python",
   "name": "python",
   "nbconvert_exporter": "python",
   "pygments_lexer": "ipython3",
   "version": "3.7.0"
  }
 },
 "nbformat": 4,
 "nbformat_minor": 2
}
